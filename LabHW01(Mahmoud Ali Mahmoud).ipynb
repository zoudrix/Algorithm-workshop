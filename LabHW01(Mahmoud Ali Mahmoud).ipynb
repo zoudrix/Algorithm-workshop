{
 "cells": [
  {
   "cell_type": "markdown",
   "metadata": {},
   "source": [
    "### Mahmoud Ali Mahmoud\n",
    "### Group 4"
   ]
  },
  {
   "cell_type": "code",
   "execution_count": 91,
   "metadata": {},
   "outputs": [],
   "source": [
    "def Knapsack(w,v,c):\n",
    "    \n",
    "    def knapSackoneo(W, wt, val, n=len(w)):\n",
    "\n",
    "        if n == 0 or W == 0 :\n",
    "            return 0\n",
    "        if (wt[n-1] > W):\n",
    "            return knapSackoneo(W, c, v, n-1)\n",
    "        else:\n",
    "            return max(val[n-1] + knapSackoneo(W-wt[n-1], wt, val, n-1),\n",
    "                       knapSackoneo(W, wt, val, n-1))\n",
    "    while(True):\n",
    "\n",
    "        choice = input(\"please select '1' for fractional or '2' for 1/0 or 'Q' to exit\")\n",
    "        if choice == \"1\":\n",
    "            res = 0\n",
    "            for pair in sorted(zip(w, v), key=lambda x: - x[1]/x[0]):\n",
    "                if not bool(c):\n",
    "                    break\n",
    "                if pair[0] > c:\n",
    "                    res += int(pair[1] / (pair[0] / c))\n",
    "                    capacity = 0\n",
    "                elif pair[0] <= c:\n",
    "                    res += pair[1]\n",
    "                    c -= pair[0]\n",
    "            print(int(res))\n",
    "            res = 0\n",
    "        if choice ==\"Q\":\n",
    "            break\n",
    "        if choice==\"2\":\n",
    "            print(knapSackoneo(c,w,v,len(w)))\n",
    "\n",
    "                "
   ]
  },
  {
   "cell_type": "code",
   "execution_count": 92,
   "metadata": {},
   "outputs": [],
   "source": [
    "val = [60, 100, 120]\n",
    "wt = [10, 20, 30]\n",
    "W = 50\n",
    "n = len(val)"
   ]
  },
  {
   "cell_type": "code",
   "execution_count": null,
   "metadata": {},
   "outputs": [
    {
     "name": "stdout",
     "output_type": "stream",
     "text": [
      "please select '1' for fractional or '2' for 1/0 or 'Q' to exit2\n",
      "220\n",
      "please select '1' for fractional or '2' for 1/0 or 'Q' to exit2\n",
      "220\n",
      "please select '1' for fractional or '2' for 1/0 or 'Q' to exit1\n",
      "240\n"
     ]
    }
   ],
   "source": [
    "Knapsack(wt,val,W)"
   ]
  }
 ],
 "metadata": {
  "kernelspec": {
   "display_name": "Python 3",
   "language": "python",
   "name": "python3"
  },
  "language_info": {
   "codemirror_mode": {
    "name": "ipython",
    "version": 3
   },
   "file_extension": ".py",
   "mimetype": "text/x-python",
   "name": "python",
   "nbconvert_exporter": "python",
   "pygments_lexer": "ipython3",
   "version": "3.8.5"
  }
 },
 "nbformat": 4,
 "nbformat_minor": 4
}
