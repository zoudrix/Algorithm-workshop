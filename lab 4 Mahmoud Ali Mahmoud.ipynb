{
 "cells": [
  {
   "cell_type": "markdown",
   "metadata": {},
   "source": [
    "### Mahmoud Ali Mahmoud"
   ]
  },
  {
   "cell_type": "code",
   "execution_count": 5,
   "metadata": {},
   "outputs": [],
   "source": [
    "import numpy as np"
   ]
  },
  {
   "cell_type": "code",
   "execution_count": 144,
   "metadata": {},
   "outputs": [],
   "source": [
    "def dynamicKnapsack(m,p,size):\n",
    "    r=len(m)+1\n",
    "    c=size+1 \n",
    "    arr=np.zeros((r,c))\n",
    "    for i in range(r):\n",
    "        for j in range(c):\n",
    "            if i == 0 or j == 0:\n",
    "                arr[i][j] = 0\n",
    "            if m[i-1]>j:\n",
    "                arr[i,j]=arr[i-1,j]\n",
    "            else:\n",
    "                arr[i,j]=max(arr[i-1,j],arr[i-1,j-m[i-1]]+p[i-1])\n",
    "\n",
    "    return arr,arr[-1,-1]\n",
    "    "
   ]
  },
  {
   "cell_type": "code",
   "execution_count": 145,
   "metadata": {},
   "outputs": [
    {
     "data": {
      "text/plain": [
       "(array([[  0.,   0.,   0.,   0.,   0.,   0.,   0.,   0.,   0.,   0.,   0.,\n",
       "           0.,   0.,   0.,   0.,   0.,   0.,   0.,   0.,   0.,   0.,   0.,\n",
       "           0.,   0.,   0.,   0.,   0.,   0.,   0.,   0., 120., 120., 120.,\n",
       "         120., 120., 120., 120., 120., 120., 120., 120., 120., 120., 120.,\n",
       "         120., 120., 120., 120., 120., 120., 120.],\n",
       "        [  0.,   0.,   0.,   0.,   0.,   0.,   0.,   0.,   0.,   0.,  60.,\n",
       "          60.,  60.,  60.,  60.,  60.,  60.,  60.,  60.,  60.,  60.,  60.,\n",
       "          60.,  60.,  60.,  60.,  60.,  60.,  60.,  60., 120., 120., 120.,\n",
       "         120., 120., 120., 120., 120., 120., 120., 180., 180., 180., 180.,\n",
       "         180., 180., 180., 180., 180., 180., 180.],\n",
       "        [  0.,   0.,   0.,   0.,   0.,   0.,   0.,   0.,   0.,   0.,  60.,\n",
       "          60.,  60.,  60.,  60.,  60.,  60.,  60.,  60.,  60., 100., 100.,\n",
       "         100., 100., 100., 100., 100., 100., 100., 100., 160., 160., 160.,\n",
       "         160., 160., 160., 160., 160., 160., 160., 180., 180., 180., 180.,\n",
       "         180., 180., 180., 180., 180., 180., 220.],\n",
       "        [  0.,   0.,   0.,   0.,   0.,   0.,   0.,   0.,   0.,   0.,  60.,\n",
       "          60.,  60.,  60.,  60.,  60.,  60.,  60.,  60.,  60., 100., 100.,\n",
       "         100., 100., 100., 100., 100., 100., 100., 100., 160., 160., 160.,\n",
       "         160., 160., 160., 160., 160., 160., 160., 180., 180., 180., 180.,\n",
       "         180., 180., 180., 180., 180., 180., 220.]]),\n",
       " 220.0)"
      ]
     },
     "execution_count": 145,
     "metadata": {},
     "output_type": "execute_result"
    }
   ],
   "source": [
    "dynamicKnapsack(weight,profit,size)\n"
   ]
  },
  {
   "cell_type": "code",
   "execution_count": 142,
   "metadata": {},
   "outputs": [],
   "source": [
    "weight=[10, 20, 30]\n",
    "profit=[60, 100, 120]\n",
    "size=50"
   ]
  },
  {
   "cell_type": "code",
   "execution_count": null,
   "metadata": {},
   "outputs": [],
   "source": []
  },
  {
   "cell_type": "code",
   "execution_count": null,
   "metadata": {},
   "outputs": [],
   "source": []
  }
 ],
 "metadata": {
  "kernelspec": {
   "display_name": "Python 3",
   "language": "python",
   "name": "python3"
  },
  "language_info": {
   "codemirror_mode": {
    "name": "ipython",
    "version": 3
   },
   "file_extension": ".py",
   "mimetype": "text/x-python",
   "name": "python",
   "nbconvert_exporter": "python",
   "pygments_lexer": "ipython3",
   "version": "3.8.5"
  }
 },
 "nbformat": 4,
 "nbformat_minor": 4
}
